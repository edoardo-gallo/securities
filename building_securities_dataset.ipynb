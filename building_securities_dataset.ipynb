{
 "cells": [
  {
   "cell_type": "markdown",
   "metadata": {},
   "source": [
    "# Building a Securities’ Dataset      E.Gallo"
   ]
  },
  {
   "cell_type": "code",
   "execution_count": 1,
   "metadata": {},
   "outputs": [],
   "source": [
    "import pandas as pd\n",
    "import json\n",
    "import requests\n",
    "import time\n",
    "import threading\n",
    "import csv\n",
    "import matplotlib.pyplot as plt\n",
    "import numpy as np"
   ]
  },
  {
   "cell_type": "markdown",
   "metadata": {},
   "source": [
    "# 2.a\n",
    "### Modify the program to store the results in various .json files (a file for each response)."
   ]
  },
  {
   "cell_type": "code",
   "execution_count": 9,
   "metadata": {
    "scrolled": true
   },
   "outputs": [
    {
     "name": "stdout",
     "output_type": "stream",
     "text": [
      "Success!\n",
      "Success!\n",
      "Success!\n",
      "Took 3.224 seconds\n"
     ]
    }
   ],
   "source": [
    "symbols = [ 'AAPL' , 'GE' , 'GM' ]\n",
    "urls = []\n",
    "\n",
    "\n",
    "for symbol in symbols:\n",
    "    urls.append( 'https://financialmodelingprep.com/api/v3/historical-price-full/'+ symbol +'?serietype=line' )\n",
    "\n",
    "start = time.time()\n",
    "for url in urls:\n",
    "    try :\n",
    "        response = requests.get(url)\n",
    "        # If the response is successful, no Exception will be raised\n",
    "        response.raise_for_status()\n",
    "        # I load the text of the .json files downloaded in a dictionary        \n",
    "        res = json.loads(response.text)\n",
    "        \n",
    "    except Exception as exception:\n",
    "        print ( 'An exception occurred: ' + str (exception))\n",
    "    else :\n",
    "        print ( 'Success!' )\n",
    "        \n",
    "    # I create a .json file in write mode, to put inside the data downloaded    \n",
    "    with open(res['symbol'] + '.json', 'w') as outfile:\n",
    "        json.dump(res, outfile)\n",
    "        \n",
    "end = time.time()\n",
    "print ( 'Took %.3f seconds' % (end - start))"
   ]
  },
  {
   "cell_type": "markdown",
   "metadata": {},
   "source": [
    "# 2.b \n",
    "### Modify the program to achieve concurrency using Threads.\n",
    "### i) Do you get a faster (or slower) solution? Evaluate the execution time difference (sequential vs threading)."
   ]
  },
  {
   "cell_type": "code",
   "execution_count": 2,
   "metadata": {
    "scrolled": true
   },
   "outputs": [],
   "source": [
    "# Create a threading class to see if the program will be faster\n",
    "\n",
    "class FinanceThread(threading.Thread):\n",
    "    def __init__(self, symb):\n",
    "        super().__init__()\n",
    "        self.symbols = symb\n",
    "        \n",
    "    def run(self):\n",
    "        finance(self.symbols)\n",
    "        \n",
    "\n",
    "def finance(symbols):\n",
    "    urls = []\n",
    "    for symbol in symbols:\n",
    "        urls.append( 'https://financialmodelingprep.com/api/v3/historical-price-full/'+ symbol +'?serietype=line' )\n",
    "\n",
    "    for url in urls:\n",
    "        try :\n",
    "            response = requests.get(url)\n",
    "            response.raise_for_status()\n",
    "                 \n",
    "        except Exception as exception:\n",
    "            print ( 'An exception occurred: ' + str (exception))\n",
    "        else :\n",
    "            print ( 'Success!' )\n",
    "            #print(response.text)\n",
    "            # I will not print the text of the download since it's very heavy and reduce a lot jupyter's notebook performaces\n"
   ]
  },
  {
   "cell_type": "code",
   "execution_count": 3,
   "metadata": {},
   "outputs": [
    {
     "name": "stdout",
     "output_type": "stream",
     "text": [
      "Success!\n",
      "Success!\n",
      "Success!\n",
      "Success!\n",
      "Success!\n",
      "Success!\n",
      "Success!\n",
      "Success!\n",
      "Success!\n",
      "Took 5.919 seconds\n"
     ]
    }
   ],
   "source": [
    "# Evaluate the time with sequential programming\n",
    "\n",
    "symbols = [['AAPL', 'GE', 'GM'], ['VXX', 'RSX', 'IGV'], ['INDA', 'IEO', 'MTUM']]\n",
    "start = time.time()\n",
    "for symbol in symbols:\n",
    "    finance(symbol)\n",
    "end = time.time()\n",
    "print ( 'Took %.3f seconds' % (end - start))"
   ]
  },
  {
   "cell_type": "code",
   "execution_count": 4,
   "metadata": {},
   "outputs": [
    {
     "name": "stdout",
     "output_type": "stream",
     "text": [
      "Success!\n",
      "Success!\n",
      "Success!\n",
      "Success!\n",
      "Success!\n",
      "Success!\n",
      "Success!\n",
      "Success!\n",
      "Success!\n",
      "Took 2.462 seconds\n"
     ]
    }
   ],
   "source": [
    "# Evaluate the time with multi-threading programming\n",
    "\n",
    "symbols = [['AAPL', 'GE', 'GM'], ['VXX', 'RSX', 'IGV'], ['INDA', 'IEO', 'MTUM']]\n",
    "start = time.time()\n",
    "threads = []\n",
    "for symbol in symbols:\n",
    "    thread = FinanceThread(symbol)\n",
    "    thread.start()\n",
    "    threads.append(thread)\n",
    "for thread in threads:\n",
    "    thread.join()\n",
    "end = time.time()\n",
    "\n",
    "print ( 'Took %.3f seconds' % (end - start))\n"
   ]
  },
  {
   "cell_type": "markdown",
   "metadata": {},
   "source": [
    "The result with **multi-threading** is very good, in fact we gained more than $50\\%$ of the time: \n",
    "- from $5.919 sec$ in **sequential** programming\n",
    "- to $2.462 sec$ in **multi-threading** programming\n",
    "\n",
    "We can explain those results since **multi-threading** works well when in the program we have some **waiting**(like in this program when we have to wait for response from internet)that allow us to achieve **concurrency**. "
   ]
  },
  {
   "cell_type": "markdown",
   "metadata": {},
   "source": [
    "# 2.c\n",
    "### Run the program with the input given by a list of 10 securities"
   ]
  },
  {
   "cell_type": "code",
   "execution_count": 7,
   "metadata": {},
   "outputs": [
    {
     "name": "stdout",
     "output_type": "stream",
     "text": [
      "Success!\n",
      "Success!\n",
      "Success!\n",
      "Success!\n",
      "Success!\n",
      "Success!\n",
      "Success!\n",
      "Success!\n",
      "Success!\n",
      "Success!\n",
      "Took 1.759 seconds\n"
     ]
    }
   ],
   "source": [
    "# Run the program with 10 securities\n",
    "\n",
    "symbols = [['AAPL', 'GE'],[ 'GM','ECH'],[ 'RSX', 'IGV'],['INDA', 'IEO'],[ 'MTUM', 'REM']]\n",
    "start = time.time()\n",
    "threads = []\n",
    "for symbol in symbols:\n",
    "    thread = FinanceThread(symbol)\n",
    "    thread.start()\n",
    "    threads.append(thread)\n",
    "for thread in threads:\n",
    "    thread.join()\n",
    "end = time.time()\n",
    "\n",
    "print ( 'Took %.3f seconds' % (end - start))"
   ]
  },
  {
   "cell_type": "markdown",
   "metadata": {},
   "source": [
    "# 2.d\n",
    "### Write a python program able to load the contents of all the downloaded files and to merge all the contents in a unique .csv file, after setting the proper header (symbol, close, date)."
   ]
  },
  {
   "cell_type": "code",
   "execution_count": 13,
   "metadata": {
    "scrolled": true
   },
   "outputs": [],
   "source": [
    "symbols = [ 'AAPL' , 'GE' , 'GM' ]\n",
    "urls = []\n",
    "csv_list = [['symbol', 'close', 'date']]\n",
    "\n",
    "for symbol in symbols:\n",
    "    url = 'https://financialmodelingprep.com/api/v3/historical-price-full/'+ symbol +'?serietype=line'\n",
    "    response = requests.get(url)\n",
    "    response.raise_for_status()\n",
    "    res = json.loads(response.text)# {'symbol': 'GM', 'historical': [{'date': '2010-11-18', 'close': 34.19},...\n",
    "    \n",
    "    hist = res['historical']# [{'date': '2010-11-18', 'close': 34.19}, {'date': '2010-11-19', 'close': 34.26},...\n",
    "    \n",
    "    for i in hist:# {'date': '2010-11-18', 'close': 34.19}...\n",
    "        \n",
    "        cs = [symbol, i['close'], i['date']]# ['GM', 34.19, '2010-11-18']\n",
    "        csv_list.append(cs)\n",
    "\n",
    "# I create a .csv file in write mode, to put inside the data created\n",
    "with open('securities.csv', 'w', newline='') as file:\n",
    "    writer = csv.writer(file)\n",
    "    writer.writerows(csv_list)\n",
    "    "
   ]
  },
  {
   "cell_type": "markdown",
   "metadata": {},
   "source": [
    "# 2.e\n",
    "### Load the data in a Python Dataframe and extract some information (of your choice)."
   ]
  },
  {
   "cell_type": "code",
   "execution_count": 15,
   "metadata": {
    "scrolled": false
   },
   "outputs": [
    {
     "data": {
      "text/html": [
       "<div>\n",
       "<style scoped>\n",
       "    .dataframe tbody tr th:only-of-type {\n",
       "        vertical-align: middle;\n",
       "    }\n",
       "\n",
       "    .dataframe tbody tr th {\n",
       "        vertical-align: top;\n",
       "    }\n",
       "\n",
       "    .dataframe thead th {\n",
       "        text-align: right;\n",
       "    }\n",
       "</style>\n",
       "<table border=\"1\" class=\"dataframe\">\n",
       "  <thead>\n",
       "    <tr style=\"text-align: right;\">\n",
       "      <th></th>\n",
       "      <th>symbol</th>\n",
       "      <th>close</th>\n",
       "      <th>date</th>\n",
       "    </tr>\n",
       "  </thead>\n",
       "  <tbody>\n",
       "    <tr>\n",
       "      <th>0</th>\n",
       "      <td>symbol</td>\n",
       "      <td>close</td>\n",
       "      <td>date</td>\n",
       "    </tr>\n",
       "    <tr>\n",
       "      <th>1</th>\n",
       "      <td>AAPL</td>\n",
       "      <td>1.54</td>\n",
       "      <td>1989-09-19</td>\n",
       "    </tr>\n",
       "    <tr>\n",
       "      <th>2</th>\n",
       "      <td>AAPL</td>\n",
       "      <td>1.59</td>\n",
       "      <td>1989-09-20</td>\n",
       "    </tr>\n",
       "    <tr>\n",
       "      <th>3</th>\n",
       "      <td>AAPL</td>\n",
       "      <td>1.6</td>\n",
       "      <td>1989-09-21</td>\n",
       "    </tr>\n",
       "    <tr>\n",
       "      <th>4</th>\n",
       "      <td>AAPL</td>\n",
       "      <td>1.6</td>\n",
       "      <td>1989-09-22</td>\n",
       "    </tr>\n",
       "  </tbody>\n",
       "</table>\n",
       "</div>"
      ],
      "text/plain": [
       "   symbol  close        date\n",
       "0  symbol  close        date\n",
       "1    AAPL   1.54  1989-09-19\n",
       "2    AAPL   1.59  1989-09-20\n",
       "3    AAPL    1.6  1989-09-21\n",
       "4    AAPL    1.6  1989-09-22"
      ]
     },
     "execution_count": 15,
     "metadata": {},
     "output_type": "execute_result"
    }
   ],
   "source": [
    "# Create a dataframe \n",
    "df = pd.DataFrame(csv_list, columns = csv_list[0])\n",
    "df.head()"
   ]
  },
  {
   "cell_type": "code",
   "execution_count": 16,
   "metadata": {
    "scrolled": true
   },
   "outputs": [
    {
     "data": {
      "text/html": [
       "<div>\n",
       "<style scoped>\n",
       "    .dataframe tbody tr th:only-of-type {\n",
       "        vertical-align: middle;\n",
       "    }\n",
       "\n",
       "    .dataframe tbody tr th {\n",
       "        vertical-align: top;\n",
       "    }\n",
       "\n",
       "    .dataframe thead th {\n",
       "        text-align: right;\n",
       "    }\n",
       "</style>\n",
       "<table border=\"1\" class=\"dataframe\">\n",
       "  <thead>\n",
       "    <tr style=\"text-align: right;\">\n",
       "      <th></th>\n",
       "      <th>symbol</th>\n",
       "      <th>close</th>\n",
       "      <th>date</th>\n",
       "    </tr>\n",
       "  </thead>\n",
       "  <tbody>\n",
       "    <tr>\n",
       "      <th>1</th>\n",
       "      <td>AAPL</td>\n",
       "      <td>1.54</td>\n",
       "      <td>1989-09-19</td>\n",
       "    </tr>\n",
       "    <tr>\n",
       "      <th>2</th>\n",
       "      <td>AAPL</td>\n",
       "      <td>1.59</td>\n",
       "      <td>1989-09-20</td>\n",
       "    </tr>\n",
       "    <tr>\n",
       "      <th>3</th>\n",
       "      <td>AAPL</td>\n",
       "      <td>1.6</td>\n",
       "      <td>1989-09-21</td>\n",
       "    </tr>\n",
       "    <tr>\n",
       "      <th>4</th>\n",
       "      <td>AAPL</td>\n",
       "      <td>1.6</td>\n",
       "      <td>1989-09-22</td>\n",
       "    </tr>\n",
       "    <tr>\n",
       "      <th>5</th>\n",
       "      <td>AAPL</td>\n",
       "      <td>1.62</td>\n",
       "      <td>1989-09-25</td>\n",
       "    </tr>\n",
       "  </tbody>\n",
       "</table>\n",
       "</div>"
      ],
      "text/plain": [
       "  symbol close        date\n",
       "1   AAPL  1.54  1989-09-19\n",
       "2   AAPL  1.59  1989-09-20\n",
       "3   AAPL   1.6  1989-09-21\n",
       "4   AAPL   1.6  1989-09-22\n",
       "5   AAPL  1.62  1989-09-25"
      ]
     },
     "execution_count": 16,
     "metadata": {},
     "output_type": "execute_result"
    }
   ],
   "source": [
    "# I erase the first row that I used to create the csv file\n",
    "df = df[1:]\n",
    "\n",
    "df.head()\n"
   ]
  },
  {
   "cell_type": "code",
   "execution_count": 18,
   "metadata": {
    "scrolled": true
   },
   "outputs": [
    {
     "data": {
      "text/html": [
       "<div>\n",
       "<style scoped>\n",
       "    .dataframe tbody tr th:only-of-type {\n",
       "        vertical-align: middle;\n",
       "    }\n",
       "\n",
       "    .dataframe tbody tr th {\n",
       "        vertical-align: top;\n",
       "    }\n",
       "\n",
       "    .dataframe thead th {\n",
       "        text-align: right;\n",
       "    }\n",
       "</style>\n",
       "<table border=\"1\" class=\"dataframe\">\n",
       "  <thead>\n",
       "    <tr style=\"text-align: right;\">\n",
       "      <th></th>\n",
       "      <th>symbol</th>\n",
       "      <th>close</th>\n",
       "      <th>date</th>\n",
       "    </tr>\n",
       "  </thead>\n",
       "  <tbody>\n",
       "    <tr>\n",
       "      <th>1</th>\n",
       "      <td>AAPL</td>\n",
       "      <td>1.54</td>\n",
       "      <td>1989-09-19</td>\n",
       "    </tr>\n",
       "    <tr>\n",
       "      <th>2</th>\n",
       "      <td>AAPL</td>\n",
       "      <td>1.59</td>\n",
       "      <td>1989-09-20</td>\n",
       "    </tr>\n",
       "    <tr>\n",
       "      <th>3</th>\n",
       "      <td>AAPL</td>\n",
       "      <td>1.6</td>\n",
       "      <td>1989-09-21</td>\n",
       "    </tr>\n",
       "    <tr>\n",
       "      <th>4</th>\n",
       "      <td>AAPL</td>\n",
       "      <td>1.6</td>\n",
       "      <td>1989-09-22</td>\n",
       "    </tr>\n",
       "    <tr>\n",
       "      <th>5</th>\n",
       "      <td>AAPL</td>\n",
       "      <td>1.62</td>\n",
       "      <td>1989-09-25</td>\n",
       "    </tr>\n",
       "  </tbody>\n",
       "</table>\n",
       "</div>"
      ],
      "text/plain": [
       "  symbol close       date\n",
       "1   AAPL  1.54 1989-09-19\n",
       "2   AAPL  1.59 1989-09-20\n",
       "3   AAPL   1.6 1989-09-21\n",
       "4   AAPL   1.6 1989-09-22\n",
       "5   AAPL  1.62 1989-09-25"
      ]
     },
     "execution_count": 18,
     "metadata": {},
     "output_type": "execute_result"
    }
   ],
   "source": [
    "# Transform in a 'datetime' object the 'date' column \n",
    "\n",
    "df['date'] = pd.to_datetime(df['date'])\n",
    "df.head()"
   ]
  },
  {
   "cell_type": "code",
   "execution_count": 19,
   "metadata": {},
   "outputs": [
    {
     "data": {
      "text/html": [
       "<div>\n",
       "<style scoped>\n",
       "    .dataframe tbody tr th:only-of-type {\n",
       "        vertical-align: middle;\n",
       "    }\n",
       "\n",
       "    .dataframe tbody tr th {\n",
       "        vertical-align: top;\n",
       "    }\n",
       "\n",
       "    .dataframe thead th {\n",
       "        text-align: right;\n",
       "    }\n",
       "</style>\n",
       "<table border=\"1\" class=\"dataframe\">\n",
       "  <thead>\n",
       "    <tr style=\"text-align: right;\">\n",
       "      <th></th>\n",
       "      <th>symbol</th>\n",
       "      <th>close</th>\n",
       "    </tr>\n",
       "    <tr>\n",
       "      <th>date</th>\n",
       "      <th></th>\n",
       "      <th></th>\n",
       "    </tr>\n",
       "  </thead>\n",
       "  <tbody>\n",
       "    <tr>\n",
       "      <th>2020-04-20</th>\n",
       "      <td>GM</td>\n",
       "      <td>22.38</td>\n",
       "    </tr>\n",
       "    <tr>\n",
       "      <th>2020-04-21</th>\n",
       "      <td>GM</td>\n",
       "      <td>21.24</td>\n",
       "    </tr>\n",
       "    <tr>\n",
       "      <th>2020-04-22</th>\n",
       "      <td>GM</td>\n",
       "      <td>21.3</td>\n",
       "    </tr>\n",
       "    <tr>\n",
       "      <th>2020-04-23</th>\n",
       "      <td>GM</td>\n",
       "      <td>21.52</td>\n",
       "    </tr>\n",
       "    <tr>\n",
       "      <th>2020-04-24</th>\n",
       "      <td>GM</td>\n",
       "      <td>21.95</td>\n",
       "    </tr>\n",
       "  </tbody>\n",
       "</table>\n",
       "</div>"
      ],
      "text/plain": [
       "           symbol  close\n",
       "date                    \n",
       "2020-04-20     GM  22.38\n",
       "2020-04-21     GM  21.24\n",
       "2020-04-22     GM   21.3\n",
       "2020-04-23     GM  21.52\n",
       "2020-04-24     GM  21.95"
      ]
     },
     "execution_count": 19,
     "metadata": {},
     "output_type": "execute_result"
    }
   ],
   "source": [
    "# Change the index using dates and then get rid of the 'date' column\n",
    "df.index = df['date']\n",
    "del df['date']\n",
    "df.tail()"
   ]
  },
  {
   "cell_type": "code",
   "execution_count": 21,
   "metadata": {},
   "outputs": [
    {
     "data": {
      "text/html": [
       "<div>\n",
       "<style scoped>\n",
       "    .dataframe tbody tr th:only-of-type {\n",
       "        vertical-align: middle;\n",
       "    }\n",
       "\n",
       "    .dataframe tbody tr th {\n",
       "        vertical-align: top;\n",
       "    }\n",
       "\n",
       "    .dataframe thead th {\n",
       "        text-align: right;\n",
       "    }\n",
       "</style>\n",
       "<table border=\"1\" class=\"dataframe\">\n",
       "  <thead>\n",
       "    <tr style=\"text-align: right;\">\n",
       "      <th></th>\n",
       "      <th>symbol</th>\n",
       "      <th>close</th>\n",
       "      <th>AAPL</th>\n",
       "      <th>GE</th>\n",
       "      <th>GM</th>\n",
       "    </tr>\n",
       "    <tr>\n",
       "      <th>date</th>\n",
       "      <th></th>\n",
       "      <th></th>\n",
       "      <th></th>\n",
       "      <th></th>\n",
       "      <th></th>\n",
       "    </tr>\n",
       "  </thead>\n",
       "  <tbody>\n",
       "    <tr>\n",
       "      <th>2020-04-20</th>\n",
       "      <td>GM</td>\n",
       "      <td>22.38</td>\n",
       "      <td>276.93</td>\n",
       "      <td>6.51</td>\n",
       "      <td>22.38</td>\n",
       "    </tr>\n",
       "    <tr>\n",
       "      <th>2020-04-21</th>\n",
       "      <td>GM</td>\n",
       "      <td>21.24</td>\n",
       "      <td>268.37</td>\n",
       "      <td>6.48</td>\n",
       "      <td>21.24</td>\n",
       "    </tr>\n",
       "    <tr>\n",
       "      <th>2020-04-22</th>\n",
       "      <td>GM</td>\n",
       "      <td>21.3</td>\n",
       "      <td>276.1</td>\n",
       "      <td>6.43</td>\n",
       "      <td>21.3</td>\n",
       "    </tr>\n",
       "    <tr>\n",
       "      <th>2020-04-23</th>\n",
       "      <td>GM</td>\n",
       "      <td>21.52</td>\n",
       "      <td>275.03</td>\n",
       "      <td>6.52</td>\n",
       "      <td>21.52</td>\n",
       "    </tr>\n",
       "    <tr>\n",
       "      <th>2020-04-24</th>\n",
       "      <td>GM</td>\n",
       "      <td>21.95</td>\n",
       "      <td>282.97</td>\n",
       "      <td>6.26</td>\n",
       "      <td>21.95</td>\n",
       "    </tr>\n",
       "  </tbody>\n",
       "</table>\n",
       "</div>"
      ],
      "text/plain": [
       "           symbol  close    AAPL    GE     GM\n",
       "date                                         \n",
       "2020-04-20     GM  22.38  276.93  6.51  22.38\n",
       "2020-04-21     GM  21.24  268.37  6.48  21.24\n",
       "2020-04-22     GM   21.3   276.1  6.43   21.3\n",
       "2020-04-23     GM  21.52  275.03  6.52  21.52\n",
       "2020-04-24     GM  21.95  282.97  6.26  21.95"
      ]
     },
     "execution_count": 21,
     "metadata": {},
     "output_type": "execute_result"
    }
   ],
   "source": [
    "# To make better analysis i think that every symbol should be a column on its own, so I create them\n",
    "aapl = df[df['symbol'] == 'AAPL']['close']\n",
    "ge = df[df['symbol'] == 'GE']['close']\n",
    "gm = df[df['symbol'] == 'GM']['close']\n",
    "df['AAPL'] = aapl\n",
    "df['GE'] = ge\n",
    "df['GM'] = gm\n",
    "df.tail()"
   ]
  },
  {
   "cell_type": "code",
   "execution_count": 22,
   "metadata": {
    "scrolled": true
   },
   "outputs": [
    {
     "data": {
      "text/html": [
       "<div>\n",
       "<style scoped>\n",
       "    .dataframe tbody tr th:only-of-type {\n",
       "        vertical-align: middle;\n",
       "    }\n",
       "\n",
       "    .dataframe tbody tr th {\n",
       "        vertical-align: top;\n",
       "    }\n",
       "\n",
       "    .dataframe thead th {\n",
       "        text-align: right;\n",
       "    }\n",
       "</style>\n",
       "<table border=\"1\" class=\"dataframe\">\n",
       "  <thead>\n",
       "    <tr style=\"text-align: right;\">\n",
       "      <th></th>\n",
       "      <th>AAPL</th>\n",
       "      <th>GE</th>\n",
       "      <th>GM</th>\n",
       "    </tr>\n",
       "    <tr>\n",
       "      <th>date</th>\n",
       "      <th></th>\n",
       "      <th></th>\n",
       "      <th></th>\n",
       "    </tr>\n",
       "  </thead>\n",
       "  <tbody>\n",
       "    <tr>\n",
       "      <th>2020-04-20</th>\n",
       "      <td>276.93</td>\n",
       "      <td>6.51</td>\n",
       "      <td>22.38</td>\n",
       "    </tr>\n",
       "    <tr>\n",
       "      <th>2020-04-21</th>\n",
       "      <td>268.37</td>\n",
       "      <td>6.48</td>\n",
       "      <td>21.24</td>\n",
       "    </tr>\n",
       "    <tr>\n",
       "      <th>2020-04-22</th>\n",
       "      <td>276.1</td>\n",
       "      <td>6.43</td>\n",
       "      <td>21.3</td>\n",
       "    </tr>\n",
       "    <tr>\n",
       "      <th>2020-04-23</th>\n",
       "      <td>275.03</td>\n",
       "      <td>6.52</td>\n",
       "      <td>21.52</td>\n",
       "    </tr>\n",
       "    <tr>\n",
       "      <th>2020-04-24</th>\n",
       "      <td>282.97</td>\n",
       "      <td>6.26</td>\n",
       "      <td>21.95</td>\n",
       "    </tr>\n",
       "  </tbody>\n",
       "</table>\n",
       "</div>"
      ],
      "text/plain": [
       "              AAPL    GE     GM\n",
       "date                           \n",
       "2020-04-20  276.93  6.51  22.38\n",
       "2020-04-21  268.37  6.48  21.24\n",
       "2020-04-22   276.1  6.43   21.3\n",
       "2020-04-23  275.03  6.52  21.52\n",
       "2020-04-24  282.97  6.26  21.95"
      ]
     },
     "execution_count": 22,
     "metadata": {},
     "output_type": "execute_result"
    }
   ],
   "source": [
    "# Delete old columns\n",
    "del df['symbol']\n",
    "del df['close']\n",
    "df.tail()"
   ]
  },
  {
   "cell_type": "code",
   "execution_count": 24,
   "metadata": {},
   "outputs": [
    {
     "data": {
      "text/plain": [
       "<matplotlib.axes._subplots.AxesSubplot at 0x1f4b1da0048>"
      ]
     },
     "execution_count": 24,
     "metadata": {},
     "output_type": "execute_result"
    },
    {
     "data": {
      "image/png": "[encoded data removed]",
      "text/plain": [
       "<Figure size 432x288 with 1 Axes>"
      ]
     },
     "metadata": {
      "needs_background": "light"
     },
     "output_type": "display_data"
    }
   ],
   "source": [
    "# Make a plot \n",
    "df.plot()"
   ]
  },
  {
   "cell_type": "code",
   "execution_count": 26,
   "metadata": {},
   "outputs": [
    {
     "data": {
      "text/plain": [
       "Text(0, 0.5, 'market value')"
      ]
     },
     "execution_count": 26,
     "metadata": {},
     "output_type": "execute_result"
    },
    {
     "data": {
      "image/png": "[encoded data removed]",
      "text/plain": [
       "<Figure size 1080x216 with 3 Axes>"
      ]
     },
     "metadata": {
      "needs_background": "light"
     },
     "output_type": "display_data"
    }
   ],
   "source": [
    "# I want to see every security by itself so i plot them separately\n",
    "plt.figure(figsize=(15,3))\n",
    "plt.subplots_adjust(top = 5)# adjust distance between rows\n",
    "\n",
    "ax = plt.subplot(3,1,1)\n",
    "df['AAPL'].plot(color = 'red')\n",
    "plt.title('Apple')\n",
    "plt.ylabel('market value')\n",
    "\n",
    "ax = plt.subplot(3,1,2)\n",
    "df['GE'].plot(color = 'yellow')\n",
    "plt.title('General Electric')\n",
    "plt.ylabel('market value')\n",
    "\n",
    "ax = plt.subplot(3,1,3)\n",
    "df['GM'].plot(color = 'blue')\n",
    "plt.title('General Motors')\n",
    "plt.ylabel('market value')"
   ]
  },
  {
   "cell_type": "code",
   "execution_count": 35,
   "metadata": {
    "scrolled": true
   },
   "outputs": [
    {
     "name": "stdout",
     "output_type": "stream",
     "text": [
      "\n",
      "Maximum value reached by AAPL is: 327.20\n",
      "Minimum value reached by AAPL is: 0.46\n",
      "Average value reached by AAPL is: 53.06\n",
      "\n",
      "Maximum value reached by GE is: 57.69\n",
      "Minimum value reached by GE is: 4.05\n",
      "Average value reached by GE is: 21.67\n",
      "\n",
      "Maximum value reached by GM is: 46.48\n",
      "Minimum value reached by GM is: 16.80\n",
      "Average value reached by GM is: 33.03\n"
     ]
    }
   ],
   "source": [
    "# Various descriptive statistics\n",
    "for i in df.columns:\n",
    "    print('\\n'+'Maximum value reached by '+ i + ' is: ' + '{:.2f}'.format(df[i].max()))\n",
    "    print('Minimum value reached by '+ i + ' is: ' + '{:.2f}'.format(df[i].min()))\n",
    "    print('Average value reached by '+ i + ' is: ' + '{:.2f}'.format(np.mean(df[i])))\n"
   ]
  },
  {
   "cell_type": "code",
   "execution_count": 53,
   "metadata": {
    "scrolled": true
   },
   "outputs": [
    {
     "data": {
      "text/html": [
       "<div>\n",
       "<style scoped>\n",
       "    .dataframe tbody tr th:only-of-type {\n",
       "        vertical-align: middle;\n",
       "    }\n",
       "\n",
       "    .dataframe tbody tr th {\n",
       "        vertical-align: top;\n",
       "    }\n",
       "\n",
       "    .dataframe thead th {\n",
       "        text-align: right;\n",
       "    }\n",
       "</style>\n",
       "<table border=\"1\" class=\"dataframe\">\n",
       "  <thead>\n",
       "    <tr style=\"text-align: right;\">\n",
       "      <th></th>\n",
       "      <th>AAPL</th>\n",
       "      <th>GE</th>\n",
       "      <th>GM</th>\n",
       "    </tr>\n",
       "    <tr>\n",
       "      <th>date</th>\n",
       "      <th></th>\n",
       "      <th></th>\n",
       "      <th></th>\n",
       "    </tr>\n",
       "  </thead>\n",
       "  <tbody>\n",
       "    <tr>\n",
       "      <th>2019-12-31</th>\n",
       "      <td>293.65</td>\n",
       "      <td>11.16</td>\n",
       "      <td>36.6</td>\n",
       "    </tr>\n",
       "    <tr>\n",
       "      <th>2020-01-02</th>\n",
       "      <td>300.35</td>\n",
       "      <td>11.93</td>\n",
       "      <td>37.38</td>\n",
       "    </tr>\n",
       "    <tr>\n",
       "      <th>2020-01-03</th>\n",
       "      <td>297.43</td>\n",
       "      <td>11.97</td>\n",
       "      <td>36.32</td>\n",
       "    </tr>\n",
       "    <tr>\n",
       "      <th>2020-01-06</th>\n",
       "      <td>299.8</td>\n",
       "      <td>12.14</td>\n",
       "      <td>35.84</td>\n",
       "    </tr>\n",
       "    <tr>\n",
       "      <th>2020-01-07</th>\n",
       "      <td>298.39</td>\n",
       "      <td>12.05</td>\n",
       "      <td>35.15</td>\n",
       "    </tr>\n",
       "    <tr>\n",
       "      <th>...</th>\n",
       "      <td>...</td>\n",
       "      <td>...</td>\n",
       "      <td>...</td>\n",
       "    </tr>\n",
       "    <tr>\n",
       "      <th>2020-04-20</th>\n",
       "      <td>276.93</td>\n",
       "      <td>6.51</td>\n",
       "      <td>22.38</td>\n",
       "    </tr>\n",
       "    <tr>\n",
       "      <th>2020-04-21</th>\n",
       "      <td>268.37</td>\n",
       "      <td>6.48</td>\n",
       "      <td>21.24</td>\n",
       "    </tr>\n",
       "    <tr>\n",
       "      <th>2020-04-22</th>\n",
       "      <td>276.1</td>\n",
       "      <td>6.43</td>\n",
       "      <td>21.3</td>\n",
       "    </tr>\n",
       "    <tr>\n",
       "      <th>2020-04-23</th>\n",
       "      <td>275.03</td>\n",
       "      <td>6.52</td>\n",
       "      <td>21.52</td>\n",
       "    </tr>\n",
       "    <tr>\n",
       "      <th>2020-04-24</th>\n",
       "      <td>282.97</td>\n",
       "      <td>6.26</td>\n",
       "      <td>21.95</td>\n",
       "    </tr>\n",
       "  </tbody>\n",
       "</table>\n",
       "<p>240 rows × 3 columns</p>\n",
       "</div>"
      ],
      "text/plain": [
       "              AAPL     GE     GM\n",
       "date                            \n",
       "2019-12-31  293.65  11.16   36.6\n",
       "2020-01-02  300.35  11.93  37.38\n",
       "2020-01-03  297.43  11.97  36.32\n",
       "2020-01-06   299.8  12.14  35.84\n",
       "2020-01-07  298.39  12.05  35.15\n",
       "...            ...    ...    ...\n",
       "2020-04-20  276.93   6.51  22.38\n",
       "2020-04-21  268.37   6.48  21.24\n",
       "2020-04-22   276.1   6.43   21.3\n",
       "2020-04-23  275.03   6.52  21.52\n",
       "2020-04-24  282.97   6.26  21.95\n",
       "\n",
       "[240 rows x 3 columns]"
      ]
     },
     "execution_count": 53,
     "metadata": {},
     "output_type": "execute_result"
    }
   ],
   "source": [
    "# I can se how those company have lost since the start of the coronavirus pandemic\n",
    "df.loc['20191231':]"
   ]
  },
  {
   "cell_type": "markdown",
   "metadata": {},
   "source": [
    "we can see that: \n",
    "- **Apple** have lost $\\frac{293.65-282.97}{293.65} 100 = 3.63\\% $\n",
    "- **General Electric** have lost $\\frac{11.16-6.26}{11.16} 100 = 43.9\\% $\n",
    "- **General Motors** have lost $\\frac{36.6-21.95}{36.6} 100 = 40\\% $"
   ]
  }
 ],
 "metadata": {
  "kernelspec": {
   "display_name": "Python 3",
   "language": "python",
   "name": "python3"
  },
  "language_info": {
   "codemirror_mode": {
    "name": "ipython",
    "version": 3
   },
   "file_extension": ".py",
   "mimetype": "text/x-python",
   "name": "python",
   "nbconvert_exporter": "python",
   "pygments_lexer": "ipython3",
   "version": "3.7.6"
  }
 },
 "nbformat": 4,
 "nbformat_minor": 4
}
